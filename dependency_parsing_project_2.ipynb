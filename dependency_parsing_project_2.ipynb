{
  "cells": [
    {
      "cell_type": "markdown",
      "metadata": {
        "id": "view-in-github",
        "colab_type": "text"
      },
      "source": [
        "<a href=\"https://colab.research.google.com/github/AlbertoZerbinati/nlp-depparsing/blob/main/dependency_parsing_project_2.ipynb\" target=\"_parent\"><img src=\"https://colab.research.google.com/assets/colab-badge.svg\" alt=\"Open In Colab\"/></a>"
      ]
    },
    {
      "cell_type": "markdown",
      "metadata": {
        "id": "sL1vUhyl6mX-"
      },
      "source": [
        "# Neural Dependency Parsing Project\n",
        "Alberto Zerbinati, Flavia Gianfrate"
      ]
    },
    {
      "cell_type": "markdown",
      "metadata": {
        "id": "jRutj8WEp-rE"
      },
      "source": [
        "## Introduction\n",
        "\n",
        "This project is about implementing a trainsition-based dependency parsing system.\n",
        "We use the **arc-eager** model, augmenting the parser with neural machinery for contextual word embeddings and for choosing the most appropriate parser actions.\n",
        "\n",
        "We compare the following features for representing tokens:\n",
        "* BiLSTM embeddings\n",
        "* BERT embeddings\n",
        "\n",
        "We adopt an MLP for next transition classification, based on top-most stack token and first token in the buffer.\n",
        "\n",
        "We disregard arc labels in dependency trees."
      ]
    },
    {
      "cell_type": "code",
      "execution_count": 1,
      "metadata": {
        "colab": {
          "base_uri": "https://localhost:8080/"
        },
        "id": "vBdAEm6jKdc-",
        "outputId": "1cccc530-907c-4466-bee0-b6002db42e79"
      },
      "outputs": [
        {
          "output_type": "stream",
          "name": "stdout",
          "text": [
            "Looking in indexes: https://pypi.org/simple, https://us-python.pkg.dev/colab-wheels/public/simple/\n",
            "Requirement already satisfied: datasets in /usr/local/lib/python3.10/dist-packages (2.13.0)\n",
            "Requirement already satisfied: numpy>=1.17 in /usr/local/lib/python3.10/dist-packages (from datasets) (1.22.4)\n",
            "Requirement already satisfied: pyarrow>=8.0.0 in /usr/local/lib/python3.10/dist-packages (from datasets) (9.0.0)\n",
            "Requirement already satisfied: dill<0.3.7,>=0.3.0 in /usr/local/lib/python3.10/dist-packages (from datasets) (0.3.6)\n",
            "Requirement already satisfied: pandas in /usr/local/lib/python3.10/dist-packages (from datasets) (1.5.3)\n",
            "Requirement already satisfied: requests>=2.19.0 in /usr/local/lib/python3.10/dist-packages (from datasets) (2.27.1)\n",
            "Requirement already satisfied: tqdm>=4.62.1 in /usr/local/lib/python3.10/dist-packages (from datasets) (4.65.0)\n",
            "Requirement already satisfied: xxhash in /usr/local/lib/python3.10/dist-packages (from datasets) (3.2.0)\n",
            "Requirement already satisfied: multiprocess in /usr/local/lib/python3.10/dist-packages (from datasets) (0.70.14)\n",
            "Requirement already satisfied: fsspec[http]>=2021.11.1 in /usr/local/lib/python3.10/dist-packages (from datasets) (2023.4.0)\n",
            "Requirement already satisfied: aiohttp in /usr/local/lib/python3.10/dist-packages (from datasets) (3.8.4)\n",
            "Requirement already satisfied: huggingface-hub<1.0.0,>=0.11.0 in /usr/local/lib/python3.10/dist-packages (from datasets) (0.15.1)\n",
            "Requirement already satisfied: packaging in /usr/local/lib/python3.10/dist-packages (from datasets) (23.1)\n",
            "Requirement already satisfied: pyyaml>=5.1 in /usr/local/lib/python3.10/dist-packages (from datasets) (6.0)\n",
            "Requirement already satisfied: attrs>=17.3.0 in /usr/local/lib/python3.10/dist-packages (from aiohttp->datasets) (23.1.0)\n",
            "Requirement already satisfied: charset-normalizer<4.0,>=2.0 in /usr/local/lib/python3.10/dist-packages (from aiohttp->datasets) (2.0.12)\n",
            "Requirement already satisfied: multidict<7.0,>=4.5 in /usr/local/lib/python3.10/dist-packages (from aiohttp->datasets) (6.0.4)\n",
            "Requirement already satisfied: async-timeout<5.0,>=4.0.0a3 in /usr/local/lib/python3.10/dist-packages (from aiohttp->datasets) (4.0.2)\n",
            "Requirement already satisfied: yarl<2.0,>=1.0 in /usr/local/lib/python3.10/dist-packages (from aiohttp->datasets) (1.9.2)\n",
            "Requirement already satisfied: frozenlist>=1.1.1 in /usr/local/lib/python3.10/dist-packages (from aiohttp->datasets) (1.3.3)\n",
            "Requirement already satisfied: aiosignal>=1.1.2 in /usr/local/lib/python3.10/dist-packages (from aiohttp->datasets) (1.3.1)\n",
            "Requirement already satisfied: filelock in /usr/local/lib/python3.10/dist-packages (from huggingface-hub<1.0.0,>=0.11.0->datasets) (3.12.0)\n",
            "Requirement already satisfied: typing-extensions>=3.7.4.3 in /usr/local/lib/python3.10/dist-packages (from huggingface-hub<1.0.0,>=0.11.0->datasets) (4.5.0)\n",
            "Requirement already satisfied: urllib3<1.27,>=1.21.1 in /usr/local/lib/python3.10/dist-packages (from requests>=2.19.0->datasets) (1.26.15)\n",
            "Requirement already satisfied: certifi>=2017.4.17 in /usr/local/lib/python3.10/dist-packages (from requests>=2.19.0->datasets) (2022.12.7)\n",
            "Requirement already satisfied: idna<4,>=2.5 in /usr/local/lib/python3.10/dist-packages (from requests>=2.19.0->datasets) (3.4)\n",
            "Requirement already satisfied: python-dateutil>=2.8.1 in /usr/local/lib/python3.10/dist-packages (from pandas->datasets) (2.8.2)\n",
            "Requirement already satisfied: pytz>=2020.1 in /usr/local/lib/python3.10/dist-packages (from pandas->datasets) (2022.7.1)\n",
            "Requirement already satisfied: six>=1.5 in /usr/local/lib/python3.10/dist-packages (from python-dateutil>=2.8.1->pandas->datasets) (1.16.0)\n",
            "Looking in indexes: https://pypi.org/simple, https://us-python.pkg.dev/colab-wheels/public/simple/\n",
            "Requirement already satisfied: conllu in /usr/local/lib/python3.10/dist-packages (4.5.2)\n",
            "Looking in indexes: https://pypi.org/simple, https://us-python.pkg.dev/colab-wheels/public/simple/\n",
            "Requirement already satisfied: tensorboard in /usr/local/lib/python3.10/dist-packages (2.12.2)\n",
            "Requirement already satisfied: absl-py>=0.4 in /usr/local/lib/python3.10/dist-packages (from tensorboard) (1.4.0)\n",
            "Requirement already satisfied: grpcio>=1.48.2 in /usr/local/lib/python3.10/dist-packages (from tensorboard) (1.54.0)\n",
            "Requirement already satisfied: google-auth<3,>=1.6.3 in /usr/local/lib/python3.10/dist-packages (from tensorboard) (2.17.3)\n",
            "Requirement already satisfied: google-auth-oauthlib<1.1,>=0.5 in /usr/local/lib/python3.10/dist-packages (from tensorboard) (1.0.0)\n",
            "Requirement already satisfied: markdown>=2.6.8 in /usr/local/lib/python3.10/dist-packages (from tensorboard) (3.4.3)\n",
            "Requirement already satisfied: numpy>=1.12.0 in /usr/local/lib/python3.10/dist-packages (from tensorboard) (1.22.4)\n",
            "Requirement already satisfied: protobuf>=3.19.6 in /usr/local/lib/python3.10/dist-packages (from tensorboard) (3.20.3)\n",
            "Requirement already satisfied: requests<3,>=2.21.0 in /usr/local/lib/python3.10/dist-packages (from tensorboard) (2.27.1)\n",
            "Requirement already satisfied: setuptools>=41.0.0 in /usr/local/lib/python3.10/dist-packages (from tensorboard) (67.7.2)\n",
            "Requirement already satisfied: tensorboard-data-server<0.8.0,>=0.7.0 in /usr/local/lib/python3.10/dist-packages (from tensorboard) (0.7.0)\n",
            "Requirement already satisfied: tensorboard-plugin-wit>=1.6.0 in /usr/local/lib/python3.10/dist-packages (from tensorboard) (1.8.1)\n",
            "Requirement already satisfied: werkzeug>=1.0.1 in /usr/local/lib/python3.10/dist-packages (from tensorboard) (2.3.0)\n",
            "Requirement already satisfied: wheel>=0.26 in /usr/local/lib/python3.10/dist-packages (from tensorboard) (0.40.0)\n",
            "Requirement already satisfied: cachetools<6.0,>=2.0.0 in /usr/local/lib/python3.10/dist-packages (from google-auth<3,>=1.6.3->tensorboard) (5.3.0)\n",
            "Requirement already satisfied: pyasn1-modules>=0.2.1 in /usr/local/lib/python3.10/dist-packages (from google-auth<3,>=1.6.3->tensorboard) (0.3.0)\n",
            "Requirement already satisfied: six>=1.9.0 in /usr/local/lib/python3.10/dist-packages (from google-auth<3,>=1.6.3->tensorboard) (1.16.0)\n",
            "Requirement already satisfied: rsa<5,>=3.1.4 in /usr/local/lib/python3.10/dist-packages (from google-auth<3,>=1.6.3->tensorboard) (4.9)\n",
            "Requirement already satisfied: requests-oauthlib>=0.7.0 in /usr/local/lib/python3.10/dist-packages (from google-auth-oauthlib<1.1,>=0.5->tensorboard) (1.3.1)\n",
            "Requirement already satisfied: urllib3<1.27,>=1.21.1 in /usr/local/lib/python3.10/dist-packages (from requests<3,>=2.21.0->tensorboard) (1.26.15)\n",
            "Requirement already satisfied: certifi>=2017.4.17 in /usr/local/lib/python3.10/dist-packages (from requests<3,>=2.21.0->tensorboard) (2022.12.7)\n",
            "Requirement already satisfied: charset-normalizer~=2.0.0 in /usr/local/lib/python3.10/dist-packages (from requests<3,>=2.21.0->tensorboard) (2.0.12)\n",
            "Requirement already satisfied: idna<4,>=2.5 in /usr/local/lib/python3.10/dist-packages (from requests<3,>=2.21.0->tensorboard) (3.4)\n",
            "Requirement already satisfied: MarkupSafe>=2.1.1 in /usr/local/lib/python3.10/dist-packages (from werkzeug>=1.0.1->tensorboard) (2.1.2)\n",
            "Requirement already satisfied: pyasn1<0.6.0,>=0.4.6 in /usr/local/lib/python3.10/dist-packages (from pyasn1-modules>=0.2.1->google-auth<3,>=1.6.3->tensorboard) (0.5.0)\n",
            "Requirement already satisfied: oauthlib>=3.0.0 in /usr/local/lib/python3.10/dist-packages (from requests-oauthlib>=0.7.0->google-auth-oauthlib<1.1,>=0.5->tensorboard) (3.2.2)\n"
          ]
        }
      ],
      "source": [
        "!pip install datasets    # huggingface library with dataset\n",
        "!pip install conllu      # aux library for processing CoNLL-U format\n",
        "!pip install tensorboard # for training logs"
      ]
    },
    {
      "cell_type": "code",
      "execution_count": 2,
      "metadata": {
        "id": "fXpE3XkFMagl"
      },
      "outputs": [],
      "source": [
        "# for neural models\n",
        "import torch\n",
        "import torch.nn as nn\n",
        "import numpy as np\n",
        "from functools import partial\n",
        "from torch.utils.tensorboard import SummaryWriter\n",
        "\n",
        "# for dataset exploration and processing\n",
        "from datasets import load_dataset\n",
        "import spacy\n",
        "import pandas as pd\n",
        "import nltk\n",
        "from nltk.corpus import stopwords\n",
        "import matplotlib.pyplot as plt\n",
        "import seaborn as sns\n",
        "from sklearn.feature_extraction.text import CountVectorizer\n",
        "from collections import defaultdict, Counter\n",
        "import string\n",
        "\n",
        "# other\n",
        "from enum import IntEnum\n",
        "from typing import List\n",
        "import locale\n",
        "\n",
        "locale.getpreferredencoding = lambda: \"UTF-8\""
      ]
    },
    {
      "cell_type": "markdown",
      "metadata": {
        "id": "Jthj-_IoKkST"
      },
      "source": [
        "## Arc-eager parser\n",
        "\n",
        "A **configuration** of the arc-eager parser is a triple of the form $( \\sigma, \\beta, A)$\n",
        "where:\n",
        "\n",
        "* $\\sigma$ is the stack;\n",
        "* $\\beta$ is the input buffer;\n",
        "* $A$ is a set of arcs constructed so far.\n",
        "\n",
        "We write $\\sigma_i$, $i \\geq 1$, for the $i$-th token in the stack; we also write $\\beta_i$, $i \\geq 1$, for the $i$-th token in the buffer.\n",
        "\n",
        "The parser can perform four types of **actions** (transitions):\n",
        "\n",
        "* **left-arc**, which pops the top-most stack element and attaches it as a\n",
        "dependent of the first buffer element;\n",
        "* **right-arc**, which attaches the first buffer element as a dependent of the\n",
        "top-most stack element, and shifts the first buffer element into the\n",
        "stack;\n",
        "* **reduce**, which pops the stack;\n",
        "* **shift**, which removes the first element from the buffer and pushes it into the stack.\n",
        "\n",
        "Let $w = w_0 w_1 \\cdots w_{n}$ be the input sentence, with $w_0$ the special symbol `<ROOT>`.\n",
        "Stack and buffer are implemented as lists of integers, where `j` represents word $w_j$.  Top-most stack token is at the right-end of the list; first buffer token is at the left-end of the list.\n",
        "Set $A$ is implemented as an array `arcs` of size $n+1$ such that if arc $(w_i \\rightarrow w_j)$ is in $A$ then `arcs[j]=i`, and if $w_j$ is still missing its head node in the tree under construction, then `arcs[j]=-1`. We always have `arcs[0]=-1`.  We use this representation also for complete dependency trees.\n"
      ]
    },
    {
      "cell_type": "code",
      "execution_count": 3,
      "metadata": {
        "id": "6DsRjWGgeyCJ"
      },
      "outputs": [],
      "source": [
        "class Move(IntEnum):\n",
        "  LEFT_ARC = 0\n",
        "  RIGHT_ARC = 1\n",
        "  REDUCE = 2\n",
        "  SHIFT = 3"
      ]
    },
    {
      "cell_type": "code",
      "execution_count": 4,
      "metadata": {
        "id": "sOQpqLVmQZzJ"
      },
      "outputs": [],
      "source": [
        "class ArcEagerParser:\n",
        "  def __init__(self, sentence: List[str], verbose: bool = False):\n",
        "    self.verbose = verbose\n",
        "    self.sentence = sentence\n",
        "\n",
        "    # configuration\n",
        "    self.buffer = [i for i in range(len(self.sentence))]\n",
        "    self.stack = []\n",
        "    self.arcs = [-1 for _ in range(len(self.sentence))]\n",
        "\n",
        "    # two shift moves to initialize the stack\n",
        "    self.__shift()\n",
        "    self.__shift()\n",
        "\n",
        "  def __left_arc(self) -> bool:\n",
        "    # preconditions\n",
        "    o1 = self.stack[-1]\n",
        "    if o1 == 0 or self.arcs[o1] != -1:\n",
        "      if self.verbose:\n",
        "        print(\"LEFT ARC not done\")\n",
        "      return False\n",
        "\n",
        "    self.stack.pop()\n",
        "    b1 = self.buffer[0]\n",
        "    self.arcs[o1] = b1\n",
        "\n",
        "    if self.verbose:\n",
        "      print(\"LEFT ARC done\")\n",
        "\n",
        "    return True\n",
        "\n",
        "  def __right_arc(self) -> bool:\n",
        "    o1 = self.stack[-1]\n",
        "    b1 = self.buffer[0]\n",
        "    self.arcs[b1] = o1\n",
        "\n",
        "    self.buffer = self.buffer[1:]\n",
        "    self.stack.append(b1)\n",
        "\n",
        "    if self.verbose:\n",
        "      print(\"RIGHT ARC done\")\n",
        "\n",
        "    return True\n",
        "\n",
        "  def __reduce(self) -> bool:\n",
        "    # preconditions\n",
        "    o1 = self.stack[-1]\n",
        "    if self.arcs[o1] == -1:\n",
        "      if self.verbose:\n",
        "        print(\"REDUCE not done\")\n",
        "      return False\n",
        "\n",
        "    self.stack.pop()\n",
        "\n",
        "    if self.verbose:\n",
        "      print(\"REDUCE done\")\n",
        "\n",
        "    return True\n",
        "\n",
        "  def __shift(self) -> bool:\n",
        "    b1 = self.buffer[0]\n",
        "    self.buffer = self.buffer[1:]\n",
        "    self.stack.append(b1)\n",
        "\n",
        "    if self.verbose:\n",
        "      print(\"SHIFT done\")\n",
        "\n",
        "    return True\n",
        "\n",
        "  def perform_move(self, move: Move) -> bool:\n",
        "    '''\n",
        "    performs the requested move.\n",
        "    returns True if the move was performed, False otherwise (preconditions not met).\n",
        "    '''\n",
        "    if move == Move.LEFT_ARC:\n",
        "      return self.__left_arc()\n",
        "    elif move == Move.RIGHT_ARC:\n",
        "      return self.__right_arc()\n",
        "    elif move == Move.REDUCE:\n",
        "      return self.__reduce()\n",
        "    elif move == Move.SHIFT:\n",
        "      return self.__shift()\n",
        "\n",
        "  def is_tree_final(self):\n",
        "    return len(self.buffer) == 0 # sufficient (no need to look at the stack)\n",
        "\n",
        "  def print_configuration(self):\n",
        "    s = [self.sentence[i] for i in self.stack]\n",
        "    b = [self.sentence[i] for i in self.buffer]\n",
        "    print(s, b)\n",
        "    print(self.arcs)"
      ]
    },
    {
      "cell_type": "markdown",
      "metadata": {
        "id": "Ysb0iGhAUCjL"
      },
      "source": [
        "We now do a few manual tests on the parser.  Consider the sentence `He began to write again .` and the associated dependency tree\n",
        "![Screenshot from 2023-04-18 16-58-29.png](data:image/png;base64,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)"
      ]
    },
    {
      "cell_type": "code",
      "execution_count": 5,
      "metadata": {
        "colab": {
          "base_uri": "https://localhost:8080/"
        },
        "id": "JDysQRi_OuqF",
        "outputId": "8e43be1b-a082-4082-83ad-4ba42d31eac6"
      },
      "outputs": [
        {
          "output_type": "stream",
          "name": "stdout",
          "text": [
            "SHIFT done\n",
            "SHIFT done\n",
            "['<ROOT>', 'He'] ['began', 'to', 'write', 'again', '.']\n",
            "[-1, -1, -1, -1, -1, -1, -1]\n"
          ]
        }
      ],
      "source": [
        "sentence = [\"<ROOT>\", \"He\", \"began\", \"to\", \"write\", \"again\", \".\"]\n",
        "gold = [-1, 2, 0, 4, 2, 4, 2 ]\n",
        "\n",
        "parser = ArcEagerParser(sentence, verbose=True)\n",
        "parser.print_configuration()"
      ]
    },
    {
      "cell_type": "code",
      "execution_count": 6,
      "metadata": {
        "colab": {
          "base_uri": "https://localhost:8080/"
        },
        "id": "JscFBdIjZgIt",
        "outputId": "b1b38aee-01f7-477e-c436-5d276568c795"
      },
      "outputs": [
        {
          "output_type": "stream",
          "name": "stdout",
          "text": [
            "LEFT ARC done\n",
            "['<ROOT>'] ['began', 'to', 'write', 'again', '.']\n",
            "[-1, 2, -1, -1, -1, -1, -1]\n"
          ]
        }
      ],
      "source": [
        "parser.perform_move(Move.LEFT_ARC)\n",
        "\n",
        "parser.print_configuration()"
      ]
    },
    {
      "cell_type": "code",
      "execution_count": 7,
      "metadata": {
        "colab": {
          "base_uri": "https://localhost:8080/"
        },
        "id": "-_iuaMIlZ7lj",
        "outputId": "bc2d5f41-fe00-47ee-ada5-f632c7784050"
      },
      "outputs": [
        {
          "output_type": "stream",
          "name": "stdout",
          "text": [
            "SHIFT done\n",
            "['<ROOT>', 'began'] ['to', 'write', 'again', '.']\n",
            "[-1, 2, -1, -1, -1, -1, -1]\n"
          ]
        }
      ],
      "source": [
        "parser.perform_move(Move.SHIFT)\n",
        "\n",
        "parser.print_configuration()"
      ]
    },
    {
      "cell_type": "code",
      "execution_count": 8,
      "metadata": {
        "colab": {
          "base_uri": "https://localhost:8080/"
        },
        "id": "QCf7bcxB3bJx",
        "outputId": "32794e0c-4ed3-48c7-828f-84aae50050ad"
      },
      "outputs": [
        {
          "output_type": "stream",
          "name": "stdout",
          "text": [
            "RIGHT ARC done\n",
            "['<ROOT>', 'began', 'to'] ['write', 'again', '.']\n",
            "[-1, 2, -1, 2, -1, -1, -1]\n"
          ]
        }
      ],
      "source": [
        "parser.perform_move(Move.RIGHT_ARC)\n",
        "\n",
        "parser.print_configuration()"
      ]
    },
    {
      "cell_type": "code",
      "execution_count": 9,
      "metadata": {
        "colab": {
          "base_uri": "https://localhost:8080/"
        },
        "id": "JwvDaXt6aD4R",
        "outputId": "b1da82d7-36aa-4b49-e6cc-e2e38ba9d5a3"
      },
      "outputs": [
        {
          "output_type": "stream",
          "name": "stdout",
          "text": [
            "REDUCE done\n",
            "['<ROOT>', 'began'] ['write', 'again', '.']\n",
            "[-1, 2, -1, 2, -1, -1, -1]\n"
          ]
        }
      ],
      "source": [
        "parser.perform_move(Move.REDUCE)\n",
        "\n",
        "parser.print_configuration()"
      ]
    },
    {
      "cell_type": "markdown",
      "metadata": {
        "id": "3fc3PcVnGQgI"
      },
      "source": [
        "If we perform an **illegal move**, the parser won't do it.\n",
        "For instance, a precondition for the REDUCE operation is that the popped token has a head already. If it's not met, then the operation won't occur."
      ]
    },
    {
      "cell_type": "code",
      "execution_count": 10,
      "metadata": {
        "colab": {
          "base_uri": "https://localhost:8080/"
        },
        "id": "PHDBuiolGO3M",
        "outputId": "09488af4-dadf-4d85-be2a-8e7e9a775b5c"
      },
      "outputs": [
        {
          "output_type": "stream",
          "name": "stdout",
          "text": [
            "REDUCE not done\n",
            "['<ROOT>', 'began'] ['write', 'again', '.']\n",
            "[-1, 2, -1, 2, -1, -1, -1]\n"
          ]
        }
      ],
      "source": [
        "parser.perform_move(Move.REDUCE)\n",
        "\n",
        "parser.print_configuration()"
      ]
    },
    {
      "cell_type": "markdown",
      "metadata": {
        "id": "OtdR3Elcdxdq"
      },
      "source": [
        "## Oracle\n",
        "\n",
        "Implementation of the arc-eager oracle. Given a parser configuration and the gold tree, it is able to return the next gold move (`get_next_gold_move` method)."
      ]
    },
    {
      "cell_type": "code",
      "execution_count": 11,
      "metadata": {
        "id": "ImTye0fORmcQ"
      },
      "outputs": [],
      "source": [
        "class Oracle:\n",
        "  def __init__(self, parser, gold_tree):\n",
        "    self.parser = parser\n",
        "    self.gold = gold_tree\n",
        "\n",
        "  def __is_left_arc_gold(self) -> bool:\n",
        "    if len(self.parser.buffer) <= 0 or len(self.parser.stack) <= 0:\n",
        "      return False\n",
        "\n",
        "    o1 = self.parser.stack[-1]\n",
        "    b1 = self.parser.buffer[0]\n",
        "\n",
        "    if o1 == 0:\n",
        "      return False\n",
        "\n",
        "    if self.gold[o1] == b1:\n",
        "      return True\n",
        "\n",
        "    return False\n",
        "\n",
        "  def __is_right_arc_gold(self) -> bool:\n",
        "    if len(self.parser.buffer) <= 0 or len(self.parser.stack) <= 0:\n",
        "      return False\n",
        "\n",
        "    o1 = self.parser.stack[-1]\n",
        "    b1 = self.parser.buffer[0]\n",
        "\n",
        "    if self.gold[b1] == o1:\n",
        "      return True\n",
        "\n",
        "    return False\n",
        "\n",
        "  def __is_reduce_gold(self) -> bool:\n",
        "      if len(self.parser.buffer) <= 0 or len(self.parser.stack) <= 0:\n",
        "        return False\n",
        "\n",
        "      o1 = self.parser.stack[-1]\n",
        "      b1 = self.parser.buffer[0]\n",
        "\n",
        "      # check that we can pop\n",
        "      if o1 == 0:\n",
        "          return False\n",
        "      if self.parser.arcs[o1] == -1:\n",
        "          return False\n",
        "\n",
        "      # loop through all the stack (k < i) and check for arcs with the o1 or b1\n",
        "      # in case one is found, the reduction can occur\n",
        "      for i in range(1, len(self.parser.stack)):\n",
        "          o2 = self.parser.stack[-i - 1]\n",
        "\n",
        "          if self.gold[b1] == o2 or self.gold[o2] == b1:\n",
        "              return True\n",
        "\n",
        "      return False\n",
        "\n",
        "  def get_next_gold_move(self) -> Move:\n",
        "    if self.__is_left_arc_gold():\n",
        "      return Move.LEFT_ARC\n",
        "    elif self.__is_right_arc_gold():\n",
        "      return Move.RIGHT_ARC\n",
        "    elif self.__is_reduce_gold():\n",
        "      return Move.REDUCE\n",
        "    else:\n",
        "      return Move.SHIFT"
      ]
    },
    {
      "cell_type": "markdown",
      "metadata": {
        "id": "dt7JqjcXAwoq"
      },
      "source": [
        "Let us come back to our example."
      ]
    },
    {
      "cell_type": "code",
      "execution_count": 12,
      "metadata": {
        "colab": {
          "base_uri": "https://localhost:8080/"
        },
        "id": "a6rY9t1Rd6oY",
        "outputId": "ae2a5722-3dc2-427c-aa28-17cf9419c51e"
      },
      "outputs": [
        {
          "output_type": "stream",
          "name": "stdout",
          "text": [
            "SHIFT done\n",
            "SHIFT done\n",
            "['<ROOT>', 'He'] ['began', 'to', 'write', 'again', '.']\n",
            "[-1, -1, -1, -1, -1, -1, -1]\n"
          ]
        }
      ],
      "source": [
        "sentence = [\"<ROOT>\", \"He\", \"began\", \"to\", \"write\", \"again\", \".\"]\n",
        "gold = [-1, 2, 0, 4, 2, 4, 2 ]\n",
        "\n",
        "parser = ArcEagerParser(sentence, verbose=True)\n",
        "oracle = Oracle(parser, gold)\n",
        "\n",
        "parser.print_configuration()"
      ]
    },
    {
      "cell_type": "markdown",
      "metadata": {
        "id": "Tu_PzHQN95MU"
      },
      "source": [
        "We do a simple manual test on the oracle"
      ]
    },
    {
      "cell_type": "code",
      "execution_count": 13,
      "metadata": {
        "colab": {
          "base_uri": "https://localhost:8080/"
        },
        "id": "0ludL0vWe_ou",
        "outputId": "32319285-380e-4649-c0d7-d3e3653d1f04"
      },
      "outputs": [
        {
          "output_type": "stream",
          "name": "stdout",
          "text": [
            "get_next_gold_move: Move.LEFT_ARC\n",
            "\n",
            "LEFT ARC done\n",
            "\n",
            "['<ROOT>'] ['began', 'to', 'write', 'again', '.']\n",
            "[-1, 2, -1, -1, -1, -1, -1]\n"
          ]
        }
      ],
      "source": [
        "print(\"get_next_gold_move:\", oracle.get_next_gold_move())\n",
        "print()\n",
        "parser.perform_move(Move.LEFT_ARC)\n",
        "print()\n",
        "parser.print_configuration()"
      ]
    },
    {
      "cell_type": "markdown",
      "metadata": {
        "id": "xaf_OT5flz2J"
      },
      "source": [
        "Then we let the oracle run and we test that it produces the correct gold tree"
      ]
    },
    {
      "cell_type": "code",
      "execution_count": 14,
      "metadata": {
        "colab": {
          "base_uri": "https://localhost:8080/"
        },
        "id": "bAafVsFofOyl",
        "outputId": "ab6506c7-9fbe-4d19-f94d-760ce0300b47"
      },
      "outputs": [
        {
          "output_type": "stream",
          "name": "stdout",
          "text": [
            "['<ROOT>'] ['began', 'to', 'write', 'again', '.']\n",
            "[-1, 2, -1, -1, -1, -1, -1]\n",
            "\n",
            "RIGHT ARC done\n",
            "\n",
            "['<ROOT>', 'began'] ['to', 'write', 'again', '.']\n",
            "[-1, 2, 0, -1, -1, -1, -1]\n",
            "\n",
            "SHIFT done\n",
            "\n",
            "['<ROOT>', 'began', 'to'] ['write', 'again', '.']\n",
            "[-1, 2, 0, -1, -1, -1, -1]\n",
            "\n",
            "LEFT ARC done\n",
            "\n",
            "['<ROOT>', 'began'] ['write', 'again', '.']\n",
            "[-1, 2, 0, 4, -1, -1, -1]\n",
            "\n",
            "RIGHT ARC done\n",
            "\n",
            "['<ROOT>', 'began', 'write'] ['again', '.']\n",
            "[-1, 2, 0, 4, 2, -1, -1]\n",
            "\n",
            "RIGHT ARC done\n",
            "\n",
            "['<ROOT>', 'began', 'write', 'again'] ['.']\n",
            "[-1, 2, 0, 4, 2, 4, -1]\n",
            "\n",
            "REDUCE done\n",
            "\n",
            "['<ROOT>', 'began', 'write'] ['.']\n",
            "[-1, 2, 0, 4, 2, 4, -1]\n",
            "\n",
            "REDUCE done\n",
            "\n",
            "['<ROOT>', 'began'] ['.']\n",
            "[-1, 2, 0, 4, 2, 4, -1]\n",
            "\n",
            "RIGHT ARC done\n",
            "\n",
            "['<ROOT>', 'began', '.'] []\n",
            "[-1, 2, 0, 4, 2, 4, 2]\n",
            "\n",
            "gold: [-1, 2, 0, 4, 2, 4, 2]\n"
          ]
        }
      ],
      "source": [
        "parser.print_configuration()\n",
        "\n",
        "while not parser.is_tree_final():\n",
        "  print()\n",
        "  move = oracle.get_next_gold_move()\n",
        "  parser.perform_move(move)\n",
        "  print()\n",
        "  parser.print_configuration()\n",
        "\n",
        "print()\n",
        "print(\"gold:\", gold)"
      ]
    },
    {
      "cell_type": "markdown",
      "metadata": {
        "id": "HLVJDHV97xtG"
      },
      "source": [
        "## Dataset\n",
        "\n",
        "We use the huggingface [datasets](https://github.com/huggingface/datasets) library, and train on the English [treebank](https://huggingface.co/datasets/viewer/?dataset=universal_dependencies) from the Universal Dependency project, in particular we use the subset \"en_gum\".\\\n",
        "GUM, the Georgetown University Multilayer corpus, is an open source multilayer corpus of richly annotated texts from multiple text types. The corpus is collected and expanded as part of the curriculum in the course LING-367 \"Computational Corpus Linguistics\" at Georgetown University by students which each year choose a text from within one of four possible genres. The selection of text types is meant to represent different communicative purposes, while coming from sources that are readily and openly available, so that new texts can be annotated and published with ease.\n",
        "\n",
        "Variable `full_ds` contains train, test and validation set.\n",
        "Each set consists of a dictionary and has the following features: 'idx', 'text', 'tokens', 'lemmas', 'upos', 'xpos', 'feats', 'head', 'deprel', 'deps', 'misc'. However, only some of these are useful for our task.\\\n",
        "Variable `dataset` below is an array recording the training set.\n"
      ]
    },
    {
      "cell_type": "code",
      "source": [
        "full_ds = load_dataset('universal_dependencies', 'en_gum')"
      ],
      "metadata": {
        "colab": {
          "base_uri": "https://localhost:8080/",
          "height": 87,
          "referenced_widgets": [
            "628a16e45a184748807c3c3a5179c61d",
            "c6f6bb416eef49198340a79ca4099747",
            "680da54865954fb8aa2abd10ed0910ba",
            "b443f2113b6f4f5aaa3daa78d9de30cd",
            "9bddee3cd12a442f85384254328750a9",
            "f1e18ffffcbc411b82f8c574717661a2",
            "57f1ed2dfacb480c917d234f8a1ec2f1",
            "ace862fa65be4a8fbe2d258f81f6825b",
            "334ed7154f544923a3767f5b2c7d0685",
            "3ab97537552741e5b87e32fc2a0b0cef",
            "36f7200661d0409794df08867969bb9c"
          ]
        },
        "id": "RvtTZf5MLpAl",
        "outputId": "b72a4d62-7135-43db-9764-4eefbf66af19"
      },
      "execution_count": 15,
      "outputs": [
        {
          "output_type": "stream",
          "name": "stderr",
          "text": [
            "WARNING:datasets.builder:Found cached dataset universal_dependencies (/root/.cache/huggingface/datasets/universal_dependencies/en_gum/2.7.0/1ac001f0e8a0021f19388e810c94599f3ac13cc45d6b5b8c69f7847b2188bdf7)\n"
          ]
        },
        {
          "output_type": "display_data",
          "data": {
            "text/plain": [
              "  0%|          | 0/3 [00:00<?, ?it/s]"
            ],
            "application/vnd.jupyter.widget-view+json": {
              "version_major": 2,
              "version_minor": 0,
              "model_id": "628a16e45a184748807c3c3a5179c61d"
            }
          },
          "metadata": {}
        }
      ]
    },
    {
      "cell_type": "code",
      "source": [
        "dataset = full_ds['train']"
      ],
      "metadata": {
        "id": "kjV_gAJsg5rx"
      },
      "execution_count": 16,
      "outputs": []
    },
    {
      "cell_type": "code",
      "execution_count": 17,
      "metadata": {
        "colab": {
          "base_uri": "https://localhost:8080/"
        },
        "id": "bhSov9QT-Eo-",
        "outputId": "84f4d0ae-82c5-47d1-9010-efb8160b434c"
      },
      "outputs": [
        {
          "output_type": "stream",
          "name": "stdout",
          "text": [
            "dataset's lenght: 4287\n",
            "dataset's keys: dict_keys(['idx', 'text', 'tokens', 'lemmas', 'upos', 'xpos', 'feats', 'head', 'deprel', 'deps', 'misc'])\n",
            "\n",
            "three random samples:\n",
            "tokens: ['During', 'this', 'period', ',', 'he', 'seems', 'to', 'have', 'found', 'time', 'for', 'studying', 'and', 'writing', '.']\n",
            "heads : ['3', '3', '6', '3', '6', '0', '9', '9', '6', '9', '12', '10', '14', '12', '6']\n",
            "\n",
            "tokens: ['Hours', 'of', 'stress', ',', 'or', 'regular', 'exposure', 'to', 'stressful', 'situations', ',', 'can', 'cause', 'serious', 'health', 'problems', '.']\n",
            "heads : ['13', '3', '1', '7', '7', '7', '1', '10', '10', '7', '1', '13', '0', '16', '16', '13', '13']\n",
            "\n",
            "tokens: ['Chatham', 'Motors', 'have', 'a', 'range', 'of', 'nice', 'rental', 'vans', 'available', 'as', 'well', 'and', 'they', 'provide', 'pretty', 'good', 'service', 'for', 'both', 'visitors', 'and', 'locals', '.']\n",
            "heads : ['2', '3', '0', '5', '3', '9', '9', '9', '5', '9', '12', '10', '15', '15', '3', '17', '18', '15', '21', '21', '18', '23', '21', '3']\n",
            "\n"
          ]
        }
      ],
      "source": [
        "# info about dataset\n",
        "print(\"dataset's lenght:\", len(dataset))\n",
        "print(\"dataset's keys:\", dataset[0].keys(), end=\"\\n\\n\")\n",
        "\n",
        "np.random.seed(42)\n",
        "rnd_ints = np.random.randint(len(dataset), size = 3)\n",
        "\n",
        "print(\"three random samples:\")\n",
        "# we look into some instances in the dataset and print their tokens and (gold) dependency tree\n",
        "for i in rnd_ints:\n",
        "  print(\"tokens:\", dataset[i.item()][\"tokens\"])\n",
        "  print(\"heads :\", dataset[i.item()][\"head\"], end=\"\\n\\n\")"
      ]
    },
    {
      "cell_type": "markdown",
      "metadata": {
        "id": "JWGBNJVwbWEw"
      },
      "source": [
        "**Important**: the key `head` selects an array representing the gold dependency tree for the sentence at hand, in the format discussed above.  However, the integers in this array are represented as strings and need to be **converted** into integers.  We will have to do this conversion at several places below."
      ]
    },
    {
      "cell_type": "code",
      "source": [
        "train_df = full_ds['train'].to_pandas()\n",
        "test_df = full_ds['test'].to_pandas()\n",
        "validation_df = full_ds['validation'].to_pandas()"
      ],
      "metadata": {
        "id": "c2bDcD4wLyx0"
      },
      "execution_count": 18,
      "outputs": []
    },
    {
      "cell_type": "code",
      "source": [
        "full_ds_pd = pd.concat([train_df, test_df, validation_df], ignore_index=True)\n",
        "tokens = full_ds_pd['tokens']"
      ],
      "metadata": {
        "id": "dOgf42ImleUs"
      },
      "execution_count": 19,
      "outputs": []
    },
    {
      "cell_type": "markdown",
      "source": [
        "### Data exploration"
      ],
      "metadata": {
        "id": "bnQgD8dJL2Th"
      }
    },
    {
      "cell_type": "markdown",
      "source": [
        "Before starting with the construction of the models, it is good to analyze the data on which we will train and evaluate them."
      ],
      "metadata": {
        "id": "5m3ssASaCs-S"
      }
    },
    {
      "cell_type": "markdown",
      "source": [
        "#### Tokens and sentences analy\n",
        "We can start by exploring some fundamental characteristics of text data, such as the distribution of sentence length and the distribution of average token lenght per sentece."
      ],
      "metadata": {
        "id": "BGbWZwhVhlPQ"
      }
    },
    {
      "cell_type": "code",
      "source": [
        "def number_of_sentences(tokens):\n",
        "  return len(tokens)\n",
        "\n",
        "def number_of_types(tokens):\n",
        "  return len(set([token for sample in tokens for token in sample]))\n",
        "\n",
        "def number_of_tokens(tokens):\n",
        "  return len([token for sample in tokens for token in sample])\n",
        "\n",
        "def sentence_len(tokens):\n",
        "  sentence_len = [len(sent) for sent in tokens]\n",
        "  full_ds_pd['number of tokens'] = sentence_len\n",
        "\n",
        "  fig, ax = plt.subplots()\n",
        "  ax.set(xlim=(0,100))\n",
        "  ax.set(xticks=np.arange(100, step=10))\n",
        "  ax.set(title=\"Sentence length distribution\")\n",
        "  sns.histplot(data=full_ds_pd, x='number of tokens', kde=True, discrete=True, ax=ax, color='green')\n",
        "\n",
        "def avg_token_len(tokens):\n",
        "  token_len = tokens.apply(lambda x : np.mean([len(i) for i in x]))\n",
        "  full_ds_pd['token length'] = token_len\n",
        "\n",
        "  fig, ax = plt.subplots()\n",
        "  ax.set(xlim=(0,10))\n",
        "  ax.set(xticks=np.arange(10))\n",
        "  ax.set(title=\"Average token length per sentence distribution\")\n",
        "  sns.histplot(data=full_ds_pd, x=\"token length\", kde=True, ax=ax, color='green')"
      ],
      "metadata": {
        "id": "bdCvoitRL-k9"
      },
      "execution_count": 20,
      "outputs": []
    },
    {
      "cell_type": "code",
      "source": [
        "print(f\"The full dataset is made of {number_of_sentences(tokens)} sentences.\")\n",
        "print(f\"It contains {number_of_types(tokens)} types and {number_of_tokens(tokens)} tokens.\")"
      ],
      "metadata": {
        "colab": {
          "base_uri": "https://localhost:8080/"
        },
        "id": "LiVnTFG6jeFO",
        "outputId": "55b6dd1f-6777-4aa7-9df6-1fef63227ab1"
      },
      "execution_count": 21,
      "outputs": [
        {
          "output_type": "stream",
          "name": "stdout",
          "text": [
            "The full dataset is made of 5961 sentences.\n",
            "It contains 15284 types and 113385 tokens.\n"
          ]
        }
      ]
    },
    {
      "cell_type": "code",
      "source": [
        "sentence_len(tokens)"
      ],
      "metadata": {
        "colab": {
          "base_uri": "https://localhost:8080/",
          "height": 472
        },
        "id": "ficL65PLj_0X",
        "outputId": "1e7cbbd4-a276-4c39-fc4a-bfbb033a17c2"
      },
      "execution_count": 22,
      "outputs": [
        {
          "output_type": "display_data",
          "data": {
            "text/plain": [
              "<Figure size 640x480 with 1 Axes>"
            ],
            "image/png": "[encoded data removed]"
          },
          "metadata": {}
        }
      ]
    },
    {
      "cell_type": "markdown",
      "source": [
        "The histogram shows that the number of tokens in the sentences varies quite a lot, in the range [1; 90].\n",
        "\n",
        "The above distribution also shows that most sentences are within 30 tokens, and longer sentences get more and more rare."
      ],
      "metadata": {
        "id": "hR0yCVYMDXci"
      }
    },
    {
      "cell_type": "code",
      "source": [
        "avg_token_len(tokens)"
      ],
      "metadata": {
        "colab": {
          "base_uri": "https://localhost:8080/",
          "height": 472
        },
        "id": "7IE_Ym1-MBuK",
        "outputId": "b94597e4-3a32-40f4-cfba-33a7738c901d"
      },
      "execution_count": 23,
      "outputs": [
        {
          "output_type": "display_data",
          "data": {
            "text/plain": [
              "<Figure size 640x480 with 1 Axes>"
            ],
            "image/png": "[encoded data removed]"
          },
          "metadata": {}
        }
      ]
    },
    {
      "cell_type": "markdown",
      "source": [
        "The average token length concentrates around 4.\n",
        "\n",
        "We should consider that this result is certainly lowered by the presence of punctuation marks that have length one, and by stopwords that usually consist of a few characters."
      ],
      "metadata": {
        "id": "QkKFAE9wE7Db"
      }
    },
    {
      "cell_type": "markdown",
      "source": [
        "#### Most frequent words and entities"
      ],
      "metadata": {
        "id": "TxDftTzgiIIe"
      }
    },
    {
      "cell_type": "markdown",
      "source": [
        "At this point there are at least two reasons to extract and analyze the stopwords in the dataset.\n",
        "\n",
        "The first is to understand their impact on the average token length, and the second is to ignore them when we analyze the dataset semantics.\n",
        "\n",
        "So let's try to see what the most common stop-words are and to what extent they occur in the dataset.\n",
        "We then proceed remove punctuation marks and stop-words from the dataset (after applying a lower folding) to look at which are the most frequent words and entities."
      ],
      "metadata": {
        "id": "JQagkIbTG6PO"
      }
    },
    {
      "cell_type": "code",
      "source": [
        "tokens_list = tokens.values.tolist()\n",
        "corpus = [word.lower() for i in tokens_list for word in i]\n",
        "\n",
        "nlp = spacy.load(\"en_core_web_sm\")\n",
        "stop = nlp.Defaults.stop_words\n",
        "string.punctuation = string.punctuation + '“' + '”' + '—'"
      ],
      "metadata": {
        "id": "k4HX4lm65_TA"
      },
      "execution_count": 24,
      "outputs": []
    },
    {
      "cell_type": "code",
      "source": [
        "# generate sorted dicts associating tokens to their frequencies\n",
        "all_tokens_freq_dict = defaultdict(int)\n",
        "stopwords_freq_dict = defaultdict(int)\n",
        "tokens_freq_dict = defaultdict(int)\n",
        "for token in corpus:\n",
        "  if token in stop or token in string.punctuation:\n",
        "    stopwords_freq_dict[token]+=1\n",
        "  else:\n",
        "    tokens_freq_dict[token]+=1\n",
        "  all_tokens_freq_dict[token]+=1\n",
        "\n",
        "stopwords_freq_dict_sorted = {k: v for k, v in sorted(stopwords_freq_dict.items(), key=lambda item: item[1], reverse=True)}\n",
        "tokens_freq_dict_sorted = {k: v for k, v in sorted(tokens_freq_dict.items(), key=lambda item: item[1], reverse=True)}\n",
        "all_tokens_freq_dict_sorted = {k: v for k, v in sorted(all_tokens_freq_dict.items(), key=lambda item: item[1], reverse=True)}"
      ],
      "metadata": {
        "id": "zWer8367uXkC"
      },
      "execution_count": 25,
      "outputs": []
    },
    {
      "cell_type": "code",
      "source": [
        "def stopwords_hist():\n",
        "  keys = list(stopwords_freq_dict_sorted.keys())\n",
        "  values = list(stopwords_freq_dict_sorted.values())\n",
        "\n",
        "  fig, ax = plt.subplots()\n",
        "  ax.set(title=\"Stop words and punctuation frequency\")\n",
        "  sns.barplot(x=values[:10], y=keys[:10], ax=ax, palette=\"flare\")\n",
        "\n",
        "def non_stopwords_hist():\n",
        "  keys = list(tokens_freq_dict_sorted.keys())\n",
        "  values = list(tokens_freq_dict_sorted.values())\n",
        "\n",
        "  fig, ax = plt.subplots()\n",
        "  ax.set(title=\"Other tokens frequency\")\n",
        "  sns.barplot(x=values[:10], y=keys[:10], ax=ax, palette=\"flare\")"
      ],
      "metadata": {
        "id": "53wgN8d8MFjF"
      },
      "execution_count": 26,
      "outputs": []
    },
    {
      "cell_type": "code",
      "source": [
        "stopwords_hist()"
      ],
      "metadata": {
        "colab": {
          "base_uri": "https://localhost:8080/",
          "height": 452
        },
        "id": "8y-zlLqnMXvv",
        "outputId": "9882193e-833b-496d-c82b-86127fb45a75"
      },
      "execution_count": 27,
      "outputs": [
        {
          "output_type": "display_data",
          "data": {
            "text/plain": [
              "<Figure size 640x480 with 1 Axes>"
            ],
            "image/png": "[encoded data removed]"
          },
          "metadata": {}
        }
      ]
    },
    {
      "cell_type": "markdown",
      "source": [
        "We can see that stopwords such as “the”, \"of\" and \"and\" are quite frequent, and so are the \".\" and \",\" punctuations.\n",
        "\n",
        "In particular we can notice that the article \"the\" occurs almost 6000 times. This had an impact in the average token length analysis above."
      ],
      "metadata": {
        "id": "Q9BXCw6XHQ60"
      }
    },
    {
      "cell_type": "code",
      "source": [
        "non_stopwords_hist()"
      ],
      "metadata": {
        "colab": {
          "base_uri": "https://localhost:8080/",
          "height": 452
        },
        "id": "L2uoNdUfrTYG",
        "outputId": "dc10f7ab-d96d-4d17-ec25-913e163cd7ad"
      },
      "execution_count": 28,
      "outputs": [
        {
          "output_type": "display_data",
          "data": {
            "text/plain": [
              "<Figure size 640x480 with 1 Axes>"
            ],
            "image/png": "[encoded data removed]"
          },
          "metadata": {}
        }
      ]
    },
    {
      "cell_type": "markdown",
      "source": [
        "After removing stopwords and punctuation, from this histogram we can observe that the most frequent words are \"like\", \"new\" and \"people\", which occur more than 150 times.\n",
        "\n",
        "Their frequency is much lower than that of the stopwords we see above.\n",
        "Let's see how they rank overall.\n"
      ],
      "metadata": {
        "id": "mJjSFvtwKY9y"
      }
    },
    {
      "cell_type": "code",
      "source": [
        "# let's see how the most frequent tokens rank with respect to all tokens (stopwords included)\n",
        "keys = list(all_tokens_freq_dict_sorted.keys())\n",
        "\n",
        "print(f'\"like\" is the {keys.index(\"like\")}th most frequent token.')\n",
        "print(f'\"new\" is the {keys.index(\"new\")}th most frequent token.')\n",
        "print(f'\"people\" is the {keys.index(\"people\")}th most frequent token.')"
      ],
      "metadata": {
        "colab": {
          "base_uri": "https://localhost:8080/"
        },
        "id": "BL3Gj9JHtaY9",
        "outputId": "acfbd46f-6644-408d-dac8-a1d5d72c759d"
      },
      "execution_count": 29,
      "outputs": [
        {
          "output_type": "stream",
          "name": "stdout",
          "text": [
            "\"like\" is the 66th most frequent token.\n",
            "\"new\" is the 69th most frequent token.\n",
            "\"people\" is the 72th most frequent token.\n"
          ]
        }
      ]
    },
    {
      "cell_type": "markdown",
      "source": [
        "Named entity recognition is an information extraction method in which entities that are present in the text are classified into predefined entity types like “Person”,” Place”,” Organization”, etc. By using NER we can get great insights about the types of entities present in the given text dataset.\\\n",
        "In the presence of a dataset that contains texts of a different nature, this method can help to understand points in common between the various sentences, observing which entities are the most common and to what extent.\n",
        "\n",
        "Let's see an example for a single sentence of our dataset:"
      ],
      "metadata": {
        "id": "r4imTB6VLDIw"
      }
    },
    {
      "cell_type": "code",
      "source": [
        "# example\n",
        "print(full_ds_pd.iloc[0,1])\n",
        "doc=nlp(full_ds_pd.iloc[0,1])\n",
        "\n",
        "[(x.text, x.label_) for x in doc.ents]"
      ],
      "metadata": {
        "colab": {
          "base_uri": "https://localhost:8080/"
        },
        "id": "a83CZK7vLTo6",
        "outputId": "da75e3d8-59a9-4c79-ddc1-a242f60ef86b"
      },
      "execution_count": 30,
      "outputs": [
        {
          "output_type": "stream",
          "name": "stdout",
          "text": [
            "Aesthetic Appreciation and Spanish Art:\n"
          ]
        },
        {
          "output_type": "execute_result",
          "data": {
            "text/plain": [
              "[('Aesthetic Appreciation', 'ORG'), ('Spanish', 'NORP')]"
            ]
          },
          "metadata": {},
          "execution_count": 30
        }
      ]
    },
    {
      "cell_type": "code",
      "source": [
        "def ner(text):\n",
        "    doc=nlp(text)\n",
        "    return [X.label_ for X in doc.ents]\n",
        "\n",
        "def entity_recognition(text):\n",
        "  ent = text.apply(lambda x : ner(x))\n",
        "  ent = [x for sub in ent for x in sub]\n",
        "  counter3 = Counter(ent)\n",
        "  count3 = counter3.most_common()\n",
        "  fig, ax = plt.subplots()\n",
        "  ax.set(xlim=(0,1800))\n",
        "  ax.set(xticks=np.arange(1800, step=300))\n",
        "  ax.set(title=\"Entity recognition\")\n",
        "  x, y = map(list,zip(*count3))\n",
        "  sns.barplot(x=y, y=x, ax=ax)"
      ],
      "metadata": {
        "id": "kuPxrFdri0YH"
      },
      "execution_count": 31,
      "outputs": []
    },
    {
      "cell_type": "code",
      "source": [
        "entity_recognition(full_ds_pd['text'])"
      ],
      "metadata": {
        "colab": {
          "base_uri": "https://localhost:8080/",
          "height": 452
        },
        "id": "zWihskwNkOE8",
        "outputId": "e93e8c52-fb61-4699-e937-25cd18ac0a15"
      },
      "execution_count": 32,
      "outputs": [
        {
          "output_type": "display_data",
          "data": {
            "text/plain": [
              "<Figure size 640x480 with 1 Axes>"
            ],
            "image/png": "[encoded data removed]"
          },
          "metadata": {}
        }
      ]
    },
    {
      "cell_type": "markdown",
      "source": [
        "From the plot we observe that personal names are very common in our dataset, immediately followed by ORG which includes information such as companies, political groups, musical bands, sport clubs, government bodies, and public organizations. These entities show up around 1500 times."
      ],
      "metadata": {
        "id": "mTkd2AnhNy47"
      }
    },
    {
      "cell_type": "markdown",
      "metadata": {
        "id": "UNwLLJu24Lbb"
      },
      "source": [
        "## Create training data and iterable dataloaders"
      ]
    },
    {
      "cell_type": "markdown",
      "metadata": {
        "id": "Z3FxlGC9eGrY"
      },
      "source": [
        "\n",
        "\n",
        "Recall that to run the arc-eager parser we need a **classifier** that looks at some of the content of the current parser configuration and selects an approapriate action.  In order to train the classifier, we need to convert the gold trees in our treebank into several pairs of the form configuration/gold action.  This is what we do in this section.\n",
        "\n",
        "First of all, we need to preprocess the training set. We remove non-projective trees.  We also create a dictionary of word/index pairs, to be used later when creating word embeddings.  Words that have less than three occurrences are not encoded and will later be mapped to special token `<unk>`."
      ]
    },
    {
      "cell_type": "code",
      "execution_count": 33,
      "metadata": {
        "id": "SX1Wbw2w5Goz"
      },
      "outputs": [],
      "source": [
        "# the function returns whether a tree is projective or not. It is currently\n",
        "# implemented inefficiently by brute checking every pair of arcs.\n",
        "def is_projective(tree):\n",
        "  for i in range(len(tree)):\n",
        "    if tree[i] == -1:\n",
        "      continue\n",
        "    left = min(i, tree[i])\n",
        "    right = max(i, tree[i])\n",
        "\n",
        "    for j in range(0, left):\n",
        "      if tree[j] > left and tree[j] < right:\n",
        "        return False\n",
        "    for j in range(left+1, right):\n",
        "      if tree[j] < left or tree[j] > right:\n",
        "        return False\n",
        "    for j in range(right+1, len(tree)):\n",
        "      if tree[j] > left and tree[j] < right:\n",
        "        return False\n",
        "\n",
        "  return True\n",
        "\n",
        "# the function creates a dictionary of word/index pairs: our embeddings vocabulary\n",
        "# threshold is the minimum number of appearance for a token to be included in the embedding list\n",
        "def create_dict(dataset, threshold=3):\n",
        "  dic = {}  # dictionary of word counts\n",
        "  for sample in dataset:\n",
        "    for word in sample['tokens']:\n",
        "      if word in dic:\n",
        "        dic[word] += 1\n",
        "      else:\n",
        "        dic[word] = 1\n",
        "\n",
        "  map = {}  # dictionary of word/index pairs. This is our embedding list\n",
        "  map[\"<pad>\"] = 0\n",
        "  map[\"<ROOT>\"] = 1\n",
        "  map[\"<unk>\"] = 2 #used for words that do not appear in our list\n",
        "\n",
        "  next_indx = 3\n",
        "  for word in dic.keys():\n",
        "    if dic[word] >= threshold:\n",
        "      map[word] = next_indx\n",
        "      next_indx += 1\n",
        "\n",
        "  return map"
      ]
    },
    {
      "cell_type": "code",
      "execution_count": 34,
      "metadata": {
        "colab": {
          "base_uri": "https://localhost:8080/"
        },
        "id": "BSY8aixm-Aj2",
        "outputId": "5c3ce617-c9a8-4177-c447-e79551d07835"
      },
      "outputs": [
        {
          "output_type": "stream",
          "name": "stderr",
          "text": [
            "WARNING:datasets.builder:Found cached dataset universal_dependencies (/root/.cache/huggingface/datasets/universal_dependencies/en_gum/2.7.0/1ac001f0e8a0021f19388e810c94599f3ac13cc45d6b5b8c69f7847b2188bdf7)\n",
            "WARNING:datasets.builder:Found cached dataset universal_dependencies (/root/.cache/huggingface/datasets/universal_dependencies/en_gum/2.7.0/1ac001f0e8a0021f19388e810c94599f3ac13cc45d6b5b8c69f7847b2188bdf7)\n",
            "WARNING:datasets.builder:Found cached dataset universal_dependencies (/root/.cache/huggingface/datasets/universal_dependencies/en_gum/2.7.0/1ac001f0e8a0021f19388e810c94599f3ac13cc45d6b5b8c69f7847b2188bdf7)\n"
          ]
        },
        {
          "output_type": "stream",
          "name": "stdout",
          "text": [
            "Number of samples:\n",
            "Train:\t 4055\n",
            "Dev:\t 784\n",
            "Test:\t 890\n"
          ]
        }
      ],
      "source": [
        "train_dataset = load_dataset('universal_dependencies', 'en_gum', split=\"train\")\n",
        "dev_dataset = load_dataset('universal_dependencies', 'en_gum', split=\"validation\")\n",
        "test_dataset = load_dataset('universal_dependencies', 'en_gum', split=\"test\")\n",
        "\n",
        "# remove non-projective sentences from the dataset (the oracle doesn't work for them):\n",
        "# heads in the gold tree are strings, we convert them to int\n",
        "train_dataset = [sample for sample in train_dataset if is_projective([-1] + [int(head) for head in sample[\"head\"]])]\n",
        "# create the embedding dictionary\n",
        "emb_dictionary = create_dict(train_dataset)\n",
        "\n",
        "print(\"Number of samples:\")\n",
        "print(\"Train:\\t\", len(train_dataset)) #(train is the number of samples without the non-projective)\n",
        "print(\"Dev:\\t\", len(dev_dataset))\n",
        "print(\"Test:\\t\", len(test_dataset))"
      ]
    },
    {
      "cell_type": "markdown",
      "metadata": {
        "id": "VZ-N9t3GFM5W"
      },
      "source": [
        "The next function is used to process our data and create the actual training samples.\n",
        "\n",
        "For each sentence in the dataset, we use our oracle to compute the canonical action sequence leading to the gold tree.  We then pair configurations and canonical actions.  Since our neural classifier will look only into $\\sigma_1$, $\\sigma_2$ and $\\beta_1$, we do not have to record the full parser configuration."
      ]
    },
    {
      "cell_type": "code",
      "execution_count": 35,
      "metadata": {
        "id": "b1ogbuYz-4IX"
      },
      "outputs": [],
      "source": [
        "def process_sample(sample, get_gold_path = False):\n",
        "\n",
        "  # put sentence and gold tree in our format\n",
        "  sentence = [\"<ROOT>\"] + sample[\"tokens\"]\n",
        "  gold = [-1] + [int(i) for i in sample[\"head\"]]  #heads in the gold tree are strings, we convert them to int\n",
        "\n",
        "  # embedding ids of sentence words\n",
        "  enc_sentence = [emb_dictionary[word] if word in emb_dictionary else emb_dictionary[\"<unk>\"] for word in sentence]\n",
        "\n",
        "  # gold_path and gold_moves are parallel arrays whose elements refer to parsing steps\n",
        "  gold_path = []   # record two topmost stack tokens and first buffer token for current step\n",
        "  gold_moves = []  # contains oracle (canonical) move for current step: 0 is left, 1 right, 2 reduce, 3 shift\n",
        "\n",
        "  if get_gold_path:  # only for training\n",
        "    parser = ArcEagerParser(sentence)\n",
        "    oracle = Oracle(parser, gold)\n",
        "\n",
        "    while not parser.is_tree_final():\n",
        "\n",
        "      # save configuration (top-most stack element + first buffer element)\n",
        "      configuration = [parser.stack[-1]]\n",
        "      if len(parser.buffer) == 0:\n",
        "        configuration.append(-1)\n",
        "      else:\n",
        "        configuration.append(parser.buffer[0])\n",
        "      gold_path.append(configuration)\n",
        "\n",
        "      # save gold move\n",
        "      gold_move = oracle.get_next_gold_move()\n",
        "      gold_moves.append(gold_move)\n",
        "      parser.perform_move(gold_move)\n",
        "\n",
        "  return enc_sentence, gold_path, gold_moves, gold"
      ]
    },
    {
      "cell_type": "markdown",
      "metadata": {
        "id": "KxbnXRwJ-93d"
      },
      "source": [
        "Next function used to batch the training data."
      ]
    },
    {
      "cell_type": "code",
      "execution_count": 36,
      "metadata": {
        "id": "5uhOyPuj-t1c"
      },
      "outputs": [],
      "source": [
        "def prepare_batch(batch_data, get_gold_path=False):\n",
        "  data = [process_sample(s, get_gold_path=get_gold_path) for s in batch_data]\n",
        "  # sentences, paths, moves, trees are parallel arrays, each element refers to a sentence\n",
        "  sentences = [s[0] for s in data]\n",
        "  paths = [s[1] for s in data]\n",
        "  moves = [s[2] for s in data]\n",
        "  trees = [s[3] for s in data]\n",
        "  return sentences, paths, moves, trees"
      ]
    },
    {
      "cell_type": "markdown",
      "metadata": {
        "id": "f3Quw_Wo5VKg"
      },
      "source": [
        "Finally, we create dataloaders for train, development and test sets."
      ]
    },
    {
      "cell_type": "code",
      "execution_count": 37,
      "metadata": {
        "id": "r6tZREWR4JJm"
      },
      "outputs": [],
      "source": [
        "BATCH_SIZE = 32\n",
        "\n",
        "train_dataloader = torch.utils.data.DataLoader(train_dataset, batch_size=BATCH_SIZE, shuffle=True, collate_fn=partial(prepare_batch, get_gold_path=True))\n",
        "dev_dataloader = torch.utils.data.DataLoader(dev_dataset, batch_size=BATCH_SIZE, shuffle=False, collate_fn=partial(prepare_batch))\n",
        "test_dataloader = torch.utils.data.DataLoader(test_dataset, batch_size=BATCH_SIZE, shuffle=False, collate_fn=partial(prepare_batch))"
      ]
    },
    {
      "cell_type": "markdown",
      "metadata": {
        "id": "gbe6a-tK5XN5"
      },
      "source": [
        "## Create baseline neural network model (Bi-LSTM)\n",
        "\n",
        "We are now ready to train our parser on the dataset. We start with the definition of some parameters.\n"
      ]
    },
    {
      "cell_type": "code",
      "execution_count": 38,
      "metadata": {
        "id": "HxLfz77ZeQQt"
      },
      "outputs": [],
      "source": [
        "EMBEDDING_SIZE = 200\n",
        "LSTM_SIZE = 200\n",
        "LSTM_LAYERS = 1\n",
        "MLP_SIZE = 200\n",
        "DROPOUT = 0.2\n",
        "EPOCHS = 15\n",
        "LR = 0.001   # learning rate"
      ]
    },
    {
      "cell_type": "markdown",
      "metadata": {
        "id": "WO83tYv7i5ij"
      },
      "source": [
        "Next, we create our model. It consists of a Bi-LSTM to represent words together with their contexts and a feedforward network to predict the next move of the parser."
      ]
    },
    {
      "cell_type": "code",
      "execution_count": 39,
      "metadata": {
        "id": "R9Eo0fMS5gII"
      },
      "outputs": [],
      "source": [
        "class Net(nn.Module):\n",
        "\n",
        "  def __init__(self, device):\n",
        "    super(Net, self).__init__()\n",
        "    self.device = device\n",
        "    self.embeddings = nn.Embedding(len(emb_dictionary), EMBEDDING_SIZE, padding_idx=emb_dictionary[\"<pad>\"])\n",
        "\n",
        "    # initialize bi-LSTM\n",
        "    self.lstm = nn.LSTM(EMBEDDING_SIZE, LSTM_SIZE, num_layers = LSTM_LAYERS, bidirectional=True, dropout=DROPOUT)\n",
        "\n",
        "    # initialize feedforward\n",
        "    self.w1 = torch.nn.Linear(4*LSTM_SIZE, MLP_SIZE, bias=True) # the input size is 2*size_configuration*LSTM_SIZE\n",
        "    self.activation = torch.nn.Tanh()\n",
        "    self.w2 = torch.nn.Linear(MLP_SIZE, 4, bias=True)\n",
        "    self.softmax = torch.nn.Softmax(dim=-1)\n",
        "\n",
        "    self.dropout = torch.nn.Dropout(DROPOUT)\n",
        "\n",
        "  # forward method at training time\n",
        "  # uses bi-lstm to extract features from the input sentences in x\n",
        "  # uses mlp to classify the next move\n",
        "  # paths, for each sentence in x, gives the list of configurations it goes\n",
        "  # through in the gold parsing\n",
        "  # we are parellelizing everything over various sentences (in a batch)/parsers\n",
        "  def forward(self, x, paths):\n",
        "    # get the embeddings\n",
        "    x = [self.dropout(self.embeddings(torch.tensor(i).to(self.device))) for i in x]\n",
        "\n",
        "    # run the bi-lstm\n",
        "    h = self.lstm_pass(x)\n",
        "\n",
        "    # for each parser configuration that we need to score we arrange from the\n",
        "    # output of the bi-lstm the correct input for the feedforward\n",
        "    mlp_input = self.get_mlp_input(paths, h)\n",
        "\n",
        "    # run the feedforward and get the scores for each possible action\n",
        "    out = self.mlp(mlp_input)\n",
        "\n",
        "    # return the predicted move\n",
        "    return out\n",
        "\n",
        "  def lstm_pass(self, x):\n",
        "    x = torch.nn.utils.rnn.pack_sequence(x, enforce_sorted=False)\n",
        "    h, (h_0, c_0) = self.lstm(x)\n",
        "    h, h_sizes = torch.nn.utils.rnn.pad_packed_sequence(h) # size h: (length_sentences, batch, output_hidden_units)\n",
        "    return h\n",
        "\n",
        "  def get_mlp_input(self, configurations, h):\n",
        "    # print(h.size())\n",
        "    # QUESTION: I understand h is the contextualized representation of the\n",
        "    # batch senteces, but what is the size?\n",
        "    # ANSWER: size h: (sentence_length, batch_size, output_hidden_units)\n",
        "    mlp_input = []\n",
        "    zero_tensor = torch.zeros(2*LSTM_SIZE, requires_grad=False).to(self.device)\n",
        "    for i in range(len(configurations)): # for every sentence in the batch\n",
        "      for j in configurations[i]: # for each configuration of a sentence\n",
        "        mlp_input.append(torch.cat([zero_tensor if j[0]==-1 else h[j[0]][i], zero_tensor if j[1]==-1 else h[j[1]][i]]))\n",
        "    mlp_input = torch.stack(mlp_input).to(self.device)\n",
        "    return mlp_input\n",
        "\n",
        "  def mlp(self, x):\n",
        "    return self.softmax(self.w2(self.dropout(self.activation(self.w1(self.dropout(x))))))\n",
        "\n",
        "  # forward method at inferece time\n",
        "  # We run the parser and at each step we pick as next move the one with the\n",
        "  # highest score assigned by the model\n",
        "  # the parser is used to keep track of how much of the sentences (x) were\n",
        "  # parsed so far. each parser works on a single sentence (again \"in parallel\")\n",
        "  def infere(self, x):\n",
        "\n",
        "    parsers = [ArcEagerParser(i) for i in x]\n",
        "\n",
        "    x = [self.embeddings(torch.tensor(i).to(self.device)) for i in x]\n",
        "\n",
        "    h = self.lstm_pass(x)\n",
        "\n",
        "    while not self.parsed_all(parsers):\n",
        "      # get the current configuration and score next moves\n",
        "      configurations = self.get_configurations(parsers)\n",
        "      mlp_input = self.get_mlp_input(configurations, h)\n",
        "      mlp_out = self.mlp(mlp_input)\n",
        "      # take the next parsing step\n",
        "      self.parse_step(parsers, mlp_out)\n",
        "\n",
        "    # return the predicted dependency trees (one for each sentence/parser)\n",
        "    return [parser.arcs for parser in parsers]\n",
        "\n",
        "  def get_configurations(self, parsers):\n",
        "    configurations = []\n",
        "\n",
        "    for parser in parsers:\n",
        "      if parser.is_tree_final():\n",
        "        conf = [-1, -1]\n",
        "      else:\n",
        "        conf = [parser.stack[-1]]\n",
        "        if len(parser.buffer) == 0:\n",
        "          conf.append(-1)\n",
        "        else:\n",
        "          conf.append(parser.buffer[0])\n",
        "      configurations.append([conf])\n",
        "\n",
        "    return configurations\n",
        "\n",
        "  def parsed_all(self, parsers):\n",
        "    for parser in parsers:\n",
        "      if not parser.is_tree_final():\n",
        "        return False\n",
        "    return True\n",
        "\n",
        "  # In this function we select and perform the next move according to the scores\n",
        "  # obtained (in parallel for each parser).\n",
        "  def parse_step(self, parsers, moves):\n",
        "    moves_argm = moves.argmax(-1)\n",
        "    for i in range(len(parsers)):\n",
        "      if parsers[i].is_tree_final():\n",
        "        continue\n",
        "      else:\n",
        "        was_move_performed = False\n",
        "        sorted_moves = [Move(m.item()) for m in torch.argsort(moves[i], descending=True)]\n",
        "\n",
        "        for move in sorted_moves:\n",
        "          if was_move_performed:\n",
        "            break\n",
        "          was_move_performed = parsers[i].perform_move(move)"
      ]
    },
    {
      "cell_type": "code",
      "execution_count": 40,
      "metadata": {
        "colab": {
          "base_uri": "https://localhost:8080/"
        },
        "id": "gBgRyM17J6B5",
        "outputId": "63b10753-f2a0-42df-8bcb-cc2ce48761eb"
      },
      "outputs": [
        {
          "output_type": "stream",
          "name": "stdout",
          "text": [
            "Device: cuda\n"
          ]
        },
        {
          "output_type": "stream",
          "name": "stderr",
          "text": [
            "/usr/local/lib/python3.10/dist-packages/torch/nn/modules/rnn.py:71: UserWarning: dropout option adds dropout after all but last recurrent layer, so non-zero dropout expects num_layers greater than 1, but got dropout=0.2 and num_layers=1\n",
            "  warnings.warn(\"dropout option adds dropout after all but last \"\n"
          ]
        },
        {
          "output_type": "stream",
          "name": "stdout",
          "text": [
            "\n",
            "Model\n",
            "Layer: embeddings.weight \t Size: torch.Size([3443, 200])\n",
            "Layer: lstm.weight_ih_l0 \t Size: torch.Size([800, 200])\n",
            "Layer: lstm.weight_hh_l0 \t Size: torch.Size([800, 200])\n",
            "Layer: lstm.weight_ih_l0_reverse \t Size: torch.Size([800, 200])\n",
            "Layer: lstm.weight_hh_l0_reverse \t Size: torch.Size([800, 200])\n",
            "Layer: w1.weight \t Size: torch.Size([200, 800])\n",
            "Layer: w2.weight \t Size: torch.Size([4, 200])\n",
            "\n"
          ]
        }
      ],
      "source": [
        "device = torch.device(\"cuda\" if torch.cuda.is_available() else \"cpu\")\n",
        "print(\"Device:\", device)\n",
        "model = Net(device)\n",
        "model.to(device)\n",
        "\n",
        "print()\n",
        "print(\"Model\")\n",
        "for name, param in model.named_parameters():\n",
        "    if 'weight' in name:\n",
        "        print(f'Layer: {name} \\t Size: {param.shape}')\n",
        "print()"
      ]
    },
    {
      "cell_type": "markdown",
      "metadata": {
        "id": "q4zLAUc85gS4"
      },
      "source": [
        "##Train and Test\n",
        "Now that we have defined all our components, we are ready to train and test our model.\n",
        "\n",
        "First we define our evaluation function. We use UAS (Unlabeled Accuracy Score) which is the percentage of correct arcs predicted over all the arcs."
      ]
    },
    {
      "cell_type": "code",
      "execution_count": 41,
      "metadata": {
        "id": "RF4v0UTrDAUs"
      },
      "outputs": [],
      "source": [
        "def evaluate(gold, preds):\n",
        "  total = 0\n",
        "  correct = 0\n",
        "\n",
        "  for g, p in zip(gold, preds):\n",
        "    for i in range(1,len(g)):\n",
        "      total += 1\n",
        "      if g[i] == p[i]:\n",
        "        correct += 1\n",
        "\n",
        "  return correct/total"
      ]
    },
    {
      "cell_type": "markdown",
      "metadata": {
        "id": "x4kyOMhnK1Ci"
      },
      "source": [
        "Next, we define our train loop and the test function to run inference."
      ]
    },
    {
      "cell_type": "code",
      "execution_count": 42,
      "metadata": {
        "id": "bhutul7I5irm"
      },
      "outputs": [],
      "source": [
        "def train(model, dataloader, criterion, optimizer, writer: SummaryWriter, epoch_index: int):\n",
        "  model.train()\n",
        "  total_loss = 0\n",
        "  batch_loss = 0\n",
        "  count = 0\n",
        "\n",
        "  # variables used to log K times the loss for each batch\n",
        "  K = 5\n",
        "  num_batches = len(dataloader)\n",
        "  n = int(num_batches / K)\n",
        "\n",
        "  for i, batch in enumerate(dataloader):\n",
        "    optimizer.zero_grad()\n",
        "    sentences, paths, moves, trees = batch\n",
        "\n",
        "    out = model(sentences, paths)\n",
        "    labels = torch.tensor(sum(moves, [])).to(device) #sum(moves, []) flatten the array\n",
        "    loss = criterion(out, labels)\n",
        "\n",
        "    count +=1\n",
        "    total_loss += loss.item()\n",
        "    batch_loss += loss.item()\n",
        "\n",
        "    loss.backward()\n",
        "    optimizer.step()\n",
        "\n",
        "    if i % n == n-1:\n",
        "      last_loss = batch_loss / n # avg loss per batch\n",
        "      print(\"  batch {} train loss: {}\".format(i + 1, last_loss))\n",
        "      tb_x = epoch_index * len(dataloader) + i + 1 # global index of this batch\n",
        "      writer.add_scalar('Loss/train', last_loss, tb_x)\n",
        "      batch_loss = 0\n",
        "\n",
        "  return total_loss/count\n",
        "\n",
        "def test(model, dataloader):\n",
        "  model.eval()\n",
        "\n",
        "  gold = []\n",
        "  preds = []\n",
        "\n",
        "  for batch in dataloader:\n",
        "    sentences, paths, moves, trees = batch\n",
        "    with torch.no_grad():\n",
        "      pred = model.infere(sentences)\n",
        "\n",
        "      gold += trees\n",
        "      preds += pred\n",
        "\n",
        "  return evaluate(gold, preds)"
      ]
    },
    {
      "cell_type": "markdown",
      "metadata": {
        "id": "RCIa_46zLoNT"
      },
      "source": [
        "Finally, we run the training of our neural dependency parser."
      ]
    },
    {
      "cell_type": "code",
      "execution_count": null,
      "metadata": {
        "id": "VE7pvCBADdHu",
        "colab": {
          "base_uri": "https://localhost:8080/"
        },
        "outputId": "af9cc2cc-f0d1-4294-b0b6-ededc5a35e46"
      },
      "outputs": [
        {
          "output_type": "stream",
          "name": "stdout",
          "text": [
            "Epoch: 1\n",
            "  batch 25 train loss: 1.2366809701919557\n",
            "  batch 50 train loss: 1.0855538272857665\n",
            "  batch 75 train loss: 1.0360487604141235\n",
            "  batch 100 train loss: 1.009527931213379\n",
            "  batch 125 train loss: 1.0010861110687257\n",
            "\n",
            "  avg_train_loss: 1.073 | dev_uas: 0.558\n",
            "\n",
            "Epoch: 2\n",
            "  batch 25 train loss: 0.9753030157089233\n",
            "  batch 50 train loss: 0.9645023822784424\n",
            "  batch 75 train loss: 0.9576881098747253\n",
            "  batch 100 train loss: 0.951526653766632\n"
          ]
        }
      ],
      "source": [
        "writer = SummaryWriter()\n",
        "\n",
        "criterion = nn.CrossEntropyLoss()\n",
        "optimizer = torch.optim.Adam(model.parameters(), lr=LR)\n",
        "\n",
        "for epoch in range(EPOCHS):\n",
        "  print(f\"Epoch: {epoch + 1}\")\n",
        "  avg_train_loss = train(model, train_dataloader, criterion, optimizer, writer, epoch)\n",
        "\n",
        "  val_uas = test(model, dev_dataloader)\n",
        "  writer.add_scalar(\"UAS/val\", val_uas, epoch+1)\n",
        "\n",
        "  print()\n",
        "  print(\"  avg_train_loss: {:5.3f} | dev_uas: {:5.3f}\".format(avg_train_loss, val_uas))\n",
        "  print()\n",
        "\n",
        "writer.flush()\n",
        "writer.close()"
      ]
    },
    {
      "cell_type": "markdown",
      "source": [
        "Display the tensorboard to monitor the training."
      ],
      "metadata": {
        "id": "JM8eoPrVamel"
      }
    },
    {
      "cell_type": "code",
      "execution_count": null,
      "metadata": {
        "id": "LQv7guzP6Jy8"
      },
      "outputs": [],
      "source": [
        "%load_ext tensorboard\n",
        "%tensorboard --logdir runs --port=8008"
      ]
    },
    {
      "cell_type": "markdown",
      "metadata": {
        "id": "rB7ELXrCLu1A"
      },
      "source": [
        "And we test on the test set."
      ]
    },
    {
      "cell_type": "code",
      "execution_count": null,
      "metadata": {
        "id": "FDvW7TqgpoC3"
      },
      "outputs": [],
      "source": [
        "test_uas = test(model, test_dataloader)\n",
        "print(\"test_uas: {:5.3f}\".format( test_uas))"
      ]
    }
  ],
  "metadata": {
    "accelerator": "GPU",
    "colab": {
      "provenance": [],
      "gpuType": "T4",
      "toc_visible": true,
      "include_colab_link": true
    },
    "kernelspec": {
      "display_name": "Python 3",
      "name": "python3"
    },
    "language_info": {
      "codemirror_mode": {
        "name": "ipython",
        "version": 3
      },
      "file_extension": ".py",
      "mimetype": "text/x-python",
      "name": "python",
      "nbconvert_exporter": "python",
      "pygments_lexer": "ipython3",
      "version": "3.7.6"
    },
    "widgets": {
      "application/vnd.jupyter.widget-state+json": {
        "628a16e45a184748807c3c3a5179c61d": {
          "model_module": "@jupyter-widgets/controls",
          "model_name": "HBoxModel",
          "model_module_version": "1.5.0",
          "state": {
            "_dom_classes": [],
            "_model_module": "@jupyter-widgets/controls",
            "_model_module_version": "1.5.0",
            "_model_name": "HBoxModel",
            "_view_count": null,
            "_view_module": "@jupyter-widgets/controls",
            "_view_module_version": "1.5.0",
            "_view_name": "HBoxView",
            "box_style": "",
            "children": [
              "IPY_MODEL_c6f6bb416eef49198340a79ca4099747",
              "IPY_MODEL_680da54865954fb8aa2abd10ed0910ba",
              "IPY_MODEL_b443f2113b6f4f5aaa3daa78d9de30cd"
            ],
            "layout": "IPY_MODEL_9bddee3cd12a442f85384254328750a9"
          }
        },
        "c6f6bb416eef49198340a79ca4099747": {
          "model_module": "@jupyter-widgets/controls",
          "model_name": "HTMLModel",
          "model_module_version": "1.5.0",
          "state": {
            "_dom_classes": [],
            "_model_module": "@jupyter-widgets/controls",
            "_model_module_version": "1.5.0",
            "_model_name": "HTMLModel",
            "_view_count": null,
            "_view_module": "@jupyter-widgets/controls",
            "_view_module_version": "1.5.0",
            "_view_name": "HTMLView",
            "description": "",
            "description_tooltip": null,
            "layout": "IPY_MODEL_f1e18ffffcbc411b82f8c574717661a2",
            "placeholder": "​",
            "style": "IPY_MODEL_57f1ed2dfacb480c917d234f8a1ec2f1",
            "value": "100%"
          }
        },
        "680da54865954fb8aa2abd10ed0910ba": {
          "model_module": "@jupyter-widgets/controls",
          "model_name": "FloatProgressModel",
          "model_module_version": "1.5.0",
          "state": {
            "_dom_classes": [],
            "_model_module": "@jupyter-widgets/controls",
            "_model_module_version": "1.5.0",
            "_model_name": "FloatProgressModel",
            "_view_count": null,
            "_view_module": "@jupyter-widgets/controls",
            "_view_module_version": "1.5.0",
            "_view_name": "ProgressView",
            "bar_style": "success",
            "description": "",
            "description_tooltip": null,
            "layout": "IPY_MODEL_ace862fa65be4a8fbe2d258f81f6825b",
            "max": 3,
            "min": 0,
            "orientation": "horizontal",
            "style": "IPY_MODEL_334ed7154f544923a3767f5b2c7d0685",
            "value": 3
          }
        },
        "b443f2113b6f4f5aaa3daa78d9de30cd": {
          "model_module": "@jupyter-widgets/controls",
          "model_name": "HTMLModel",
          "model_module_version": "1.5.0",
          "state": {
            "_dom_classes": [],
            "_model_module": "@jupyter-widgets/controls",
            "_model_module_version": "1.5.0",
            "_model_name": "HTMLModel",
            "_view_count": null,
            "_view_module": "@jupyter-widgets/controls",
            "_view_module_version": "1.5.0",
            "_view_name": "HTMLView",
            "description": "",
            "description_tooltip": null,
            "layout": "IPY_MODEL_3ab97537552741e5b87e32fc2a0b0cef",
            "placeholder": "​",
            "style": "IPY_MODEL_36f7200661d0409794df08867969bb9c",
            "value": " 3/3 [00:00&lt;00:00, 75.89it/s]"
          }
        },
        "9bddee3cd12a442f85384254328750a9": {
          "model_module": "@jupyter-widgets/base",
          "model_name": "LayoutModel",
          "model_module_version": "1.2.0",
          "state": {
            "_model_module": "@jupyter-widgets/base",
            "_model_module_version": "1.2.0",
            "_model_name": "LayoutModel",
            "_view_count": null,
            "_view_module": "@jupyter-widgets/base",
            "_view_module_version": "1.2.0",
            "_view_name": "LayoutView",
            "align_content": null,
            "align_items": null,
            "align_self": null,
            "border": null,
            "bottom": null,
            "display": null,
            "flex": null,
            "flex_flow": null,
            "grid_area": null,
            "grid_auto_columns": null,
            "grid_auto_flow": null,
            "grid_auto_rows": null,
            "grid_column": null,
            "grid_gap": null,
            "grid_row": null,
            "grid_template_areas": null,
            "grid_template_columns": null,
            "grid_template_rows": null,
            "height": null,
            "justify_content": null,
            "justify_items": null,
            "left": null,
            "margin": null,
            "max_height": null,
            "max_width": null,
            "min_height": null,
            "min_width": null,
            "object_fit": null,
            "object_position": null,
            "order": null,
            "overflow": null,
            "overflow_x": null,
            "overflow_y": null,
            "padding": null,
            "right": null,
            "top": null,
            "visibility": null,
            "width": null
          }
        },
        "f1e18ffffcbc411b82f8c574717661a2": {
          "model_module": "@jupyter-widgets/base",
          "model_name": "LayoutModel",
          "model_module_version": "1.2.0",
          "state": {
            "_model_module": "@jupyter-widgets/base",
            "_model_module_version": "1.2.0",
            "_model_name": "LayoutModel",
            "_view_count": null,
            "_view_module": "@jupyter-widgets/base",
            "_view_module_version": "1.2.0",
            "_view_name": "LayoutView",
            "align_content": null,
            "align_items": null,
            "align_self": null,
            "border": null,
            "bottom": null,
            "display": null,
            "flex": null,
            "flex_flow": null,
            "grid_area": null,
            "grid_auto_columns": null,
            "grid_auto_flow": null,
            "grid_auto_rows": null,
            "grid_column": null,
            "grid_gap": null,
            "grid_row": null,
            "grid_template_areas": null,
            "grid_template_columns": null,
            "grid_template_rows": null,
            "height": null,
            "justify_content": null,
            "justify_items": null,
            "left": null,
            "margin": null,
            "max_height": null,
            "max_width": null,
            "min_height": null,
            "min_width": null,
            "object_fit": null,
            "object_position": null,
            "order": null,
            "overflow": null,
            "overflow_x": null,
            "overflow_y": null,
            "padding": null,
            "right": null,
            "top": null,
            "visibility": null,
            "width": null
          }
        },
        "57f1ed2dfacb480c917d234f8a1ec2f1": {
          "model_module": "@jupyter-widgets/controls",
          "model_name": "DescriptionStyleModel",
          "model_module_version": "1.5.0",
          "state": {
            "_model_module": "@jupyter-widgets/controls",
            "_model_module_version": "1.5.0",
            "_model_name": "DescriptionStyleModel",
            "_view_count": null,
            "_view_module": "@jupyter-widgets/base",
            "_view_module_version": "1.2.0",
            "_view_name": "StyleView",
            "description_width": ""
          }
        },
        "ace862fa65be4a8fbe2d258f81f6825b": {
          "model_module": "@jupyter-widgets/base",
          "model_name": "LayoutModel",
          "model_module_version": "1.2.0",
          "state": {
            "_model_module": "@jupyter-widgets/base",
            "_model_module_version": "1.2.0",
            "_model_name": "LayoutModel",
            "_view_count": null,
            "_view_module": "@jupyter-widgets/base",
            "_view_module_version": "1.2.0",
            "_view_name": "LayoutView",
            "align_content": null,
            "align_items": null,
            "align_self": null,
            "border": null,
            "bottom": null,
            "display": null,
            "flex": null,
            "flex_flow": null,
            "grid_area": null,
            "grid_auto_columns": null,
            "grid_auto_flow": null,
            "grid_auto_rows": null,
            "grid_column": null,
            "grid_gap": null,
            "grid_row": null,
            "grid_template_areas": null,
            "grid_template_columns": null,
            "grid_template_rows": null,
            "height": null,
            "justify_content": null,
            "justify_items": null,
            "left": null,
            "margin": null,
            "max_height": null,
            "max_width": null,
            "min_height": null,
            "min_width": null,
            "object_fit": null,
            "object_position": null,
            "order": null,
            "overflow": null,
            "overflow_x": null,
            "overflow_y": null,
            "padding": null,
            "right": null,
            "top": null,
            "visibility": null,
            "width": null
          }
        },
        "334ed7154f544923a3767f5b2c7d0685": {
          "model_module": "@jupyter-widgets/controls",
          "model_name": "ProgressStyleModel",
          "model_module_version": "1.5.0",
          "state": {
            "_model_module": "@jupyter-widgets/controls",
            "_model_module_version": "1.5.0",
            "_model_name": "ProgressStyleModel",
            "_view_count": null,
            "_view_module": "@jupyter-widgets/base",
            "_view_module_version": "1.2.0",
            "_view_name": "StyleView",
            "bar_color": null,
            "description_width": ""
          }
        },
        "3ab97537552741e5b87e32fc2a0b0cef": {
          "model_module": "@jupyter-widgets/base",
          "model_name": "LayoutModel",
          "model_module_version": "1.2.0",
          "state": {
            "_model_module": "@jupyter-widgets/base",
            "_model_module_version": "1.2.0",
            "_model_name": "LayoutModel",
            "_view_count": null,
            "_view_module": "@jupyter-widgets/base",
            "_view_module_version": "1.2.0",
            "_view_name": "LayoutView",
            "align_content": null,
            "align_items": null,
            "align_self": null,
            "border": null,
            "bottom": null,
            "display": null,
            "flex": null,
            "flex_flow": null,
            "grid_area": null,
            "grid_auto_columns": null,
            "grid_auto_flow": null,
            "grid_auto_rows": null,
            "grid_column": null,
            "grid_gap": null,
            "grid_row": null,
            "grid_template_areas": null,
            "grid_template_columns": null,
            "grid_template_rows": null,
            "height": null,
            "justify_content": null,
            "justify_items": null,
            "left": null,
            "margin": null,
            "max_height": null,
            "max_width": null,
            "min_height": null,
            "min_width": null,
            "object_fit": null,
            "object_position": null,
            "order": null,
            "overflow": null,
            "overflow_x": null,
            "overflow_y": null,
            "padding": null,
            "right": null,
            "top": null,
            "visibility": null,
            "width": null
          }
        },
        "36f7200661d0409794df08867969bb9c": {
          "model_module": "@jupyter-widgets/controls",
          "model_name": "DescriptionStyleModel",
          "model_module_version": "1.5.0",
          "state": {
            "_model_module": "@jupyter-widgets/controls",
            "_model_module_version": "1.5.0",
            "_model_name": "DescriptionStyleModel",
            "_view_count": null,
            "_view_module": "@jupyter-widgets/base",
            "_view_module_version": "1.2.0",
            "_view_name": "StyleView",
            "description_width": ""
          }
        }
      }
    }
  },
  "nbformat": 4,
  "nbformat_minor": 0
}